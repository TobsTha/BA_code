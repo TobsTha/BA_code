{
 "cells": [
  {
   "cell_type": "code",
   "execution_count": 3,
   "metadata": {},
   "outputs": [],
   "source": [
    "import numpy as np"
   ]
  },
  {
   "cell_type": "code",
   "execution_count": 26,
   "metadata": {},
   "outputs": [],
   "source": [
    "def frac_to_dB(frac):\n",
    "    return 10*np.log10(frac)\n",
    "\n",
    "period = 892\n",
    "n_periods = 50\n",
    "length_gc = period*n_periods\n",
    "n_tooth = 1.68\n",
    "n_trench = 1.44\n",
    "\n",
    "def n_eff(FF, n_tooth = 1.68, n_trench = 1.44):\n",
    "    return FF*n_tooth + (1-FF)*n_trench\n",
    "\n",
    "def diffract_angle_FF(period, FF, n_c = 1.44, wavelength = 1550):  # period in nm\n",
    "    return np.degrees(np.arcsin(-(wavelength - n_eff(FF)*period)/(n_c * period)))"
   ]
  },
  {
   "cell_type": "code",
   "execution_count": 32,
   "metadata": {},
   "outputs": [
    {
     "name": "stdout",
     "output_type": "stream",
     "text": [
      "-12418.328110932136\n"
     ]
    }
   ],
   "source": [
    "# something not working here (calculation of distance from waist from diffraction angle at FF_intial and FF)\n",
    "\n",
    "theta1 = diffract_angle_FF(892, 0.95)\n",
    "theta2 = diffract_angle_FF(892, 0.65)\n",
    "# theta1 = -10\n",
    "# theta2 = -12\n",
    "\n",
    "alpha = -theta1 + 90\n",
    "beta = 90 - (-theta2)\n",
    "gamma = 180 - alpha - beta\n",
    "dist_from_source = 0.5* length_gc * np.sin(alpha)/np.sin(gamma)\n",
    "print(dist_from_source)  # law of sines"
   ]
  },
  {
   "cell_type": "code",
   "execution_count": 27,
   "metadata": {},
   "outputs": [
    {
     "name": "stdout",
     "output_type": "stream",
     "text": [
      "\n",
      "-5.645929739527968\n",
      "FF_0.95 -2.7730906092325167\n",
      "FF_0.95 -8.542751838476871\n",
      "44600\n"
     ]
    }
   ],
   "source": [
    "print()\n",
    "print(diffract_angle_FF(892, 0.65))\n",
    "print('FF_0.95', diffract_angle_FF(892, 0.95))\n",
    "print('FF_0.95', diffract_angle_FF(892, 0.349))\n",
    "print(length_gc)"
   ]
  },
  {
   "cell_type": "code",
   "execution_count": null,
   "metadata": {},
   "outputs": [],
   "source": []
  }
 ],
 "metadata": {
  "kernelspec": {
   "display_name": "BA_env",
   "language": "python",
   "name": "python3"
  },
  "language_info": {
   "codemirror_mode": {
    "name": "ipython",
    "version": 3
   },
   "file_extension": ".py",
   "mimetype": "text/x-python",
   "name": "python",
   "nbconvert_exporter": "python",
   "pygments_lexer": "ipython3",
   "version": "3.12.1"
  }
 },
 "nbformat": 4,
 "nbformat_minor": 2
}
