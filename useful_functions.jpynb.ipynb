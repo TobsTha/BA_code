{
 "cells": [
  {
   "cell_type": "code",
   "execution_count": 3,
   "metadata": {},
   "outputs": [],
   "source": [
    "import numpy as np"
   ]
  },
  {
   "cell_type": "code",
   "execution_count": 24,
   "metadata": {},
   "outputs": [],
   "source": [
    "def frac_to_dB(frac):\n",
    "    return 10*np.log10(frac)\n",
    "\n",
    "period = 892\n",
    "n_periods = 50\n",
    "length_gc = period*n_periods\n",
    "n_tooth = 1.68\n",
    "n_trench = 1.44\n",
    "\n",
    "def n_eff(FF, n_tooth = 1.68, n_trench = 1.44):\n",
    "    return FF*n_tooth + (1-FF)*n_trench\n",
    "\n",
    "def diffract_angle_FF(period, FF, n_c = 1.44, wavelength = 1550):  # period in nm\n",
    "    return np.degrees(np.arcsin(-(wavelength - n_eff(FF)*period)/(n_c * period)))\n",
    "\n",
    "def diffract_angle_FF2(period, FF, n_c = 1.44, wavelength = 1550, n_tooth = 1.68, n_trench = 1.44):  # period in nm\n",
    "    return np.degrees(np.arcsin(-(wavelength - (FF*n_tooth + (1-FF)*n_trench)*period)/(n_c * period)))\n",
    "\n",
    "def snell_low_to_high_n(theta_low, n_low = 1, n_high = 1.44):\n",
    "    return np.degrees(np.arcsin(np.sin(np.radians(theta_low))*n_low/n_high))\n",
    "\n",
    "def snell_high_to_low_n(theta_high, n_low = 1, n_high = 1.44):\n",
    "    return np.degrees(np.arcsin(np.sin(np.radians(theta_high))*n_high/n_low))\n",
    "\n",
    "def theta_to_polishingAngle(theta, phi = 45):\n",
    "    return 90 - np.degrees(np.arccos(-np.sin(np.radians(theta))/np.cos(np.radians(phi))))\n",
    "\n",
    "def theta_as_fc_of_ntooth(n_tooth, FF=0.65, n_trench = 1.44, period = 892, wavelength = 1550):\n",
    "    a = FF*(n_tooth-n_trench) - wavelength/period + n_trench\n",
    "    return np.degrees(np.arcsin(a/n_trench))"
   ]
  },
  {
   "cell_type": "code",
   "execution_count": 26,
   "metadata": {},
   "outputs": [
    {
     "name": "stdout",
     "output_type": "stream",
     "text": [
      "8.15027926251271\n",
      "-7.505314950180371\n"
     ]
    }
   ],
   "source": [
    "print(snell_high_to_low_n(5.65))\n",
    "print(snell_high_to_low_n(theta_as_fc_of_ntooth(1.697)))"
   ]
  },
  {
   "cell_type": "code",
   "execution_count": 21,
   "metadata": {},
   "outputs": [
    {
     "name": "stdout",
     "output_type": "stream",
     "text": [
      "-5.645929739527978\n",
      "-5.204284829951334\n",
      "-8.003364550001038\n",
      "7.370162252185281\n"
     ]
    }
   ],
   "source": [
    "print(theta_as_fc_of_ntooth(1.68))\n",
    "print(theta_as_fc_of_ntooth(1.697))\n",
    "print(theta_to_polishingAngle(5.65))\n",
    "print(theta_to_polishingAngle(theta_as_fc_of_ntooth(1.697)))"
   ]
  },
  {
   "cell_type": "code",
   "execution_count": 28,
   "metadata": {},
   "outputs": [
    {
     "name": "stdout",
     "output_type": "stream",
     "text": [
      "0.2802872360024353\n",
      "5.54617902483821\n",
      "-11.351091031049123\n",
      "0.7285564924113348\n"
     ]
    }
   ],
   "source": [
    "print(frac_to_dB(48/45))\n",
    "print(snell_low_to_high_n(8))\n",
    "print(theta_to_polishingAngle(8))\n",
    "print(frac_to_dB(51.8/43.8))"
   ]
  },
  {
   "cell_type": "code",
   "execution_count": null,
   "metadata": {},
   "outputs": [
    {
     "name": "stdout",
     "output_type": "stream",
     "text": [
      "4.009248622214998\n",
      "1.3529411764705883\n"
     ]
    }
   ],
   "source": [
    "print(frac_to_dB(43.8/17.4))\n",
    "print(46/34)"
   ]
  },
  {
   "cell_type": "code",
   "execution_count": null,
   "metadata": {},
   "outputs": [
    {
     "name": "stdout",
     "output_type": "stream",
     "text": [
      "-0.3640198667927719\n",
      "0.9195979899497487\n",
      "-3.010299956639812\n"
     ]
    }
   ],
   "source": [
    "print(frac_to_dB(45.75/49.75))\n",
    "print(45.75/49.75)\n",
    "\n",
    "print(frac_to_dB(0.5))"
   ]
  },
  {
   "cell_type": "code",
   "execution_count": null,
   "metadata": {},
   "outputs": [
    {
     "name": "stdout",
     "output_type": "stream",
     "text": [
      "-83595.44428995732\n"
     ]
    }
   ],
   "source": [
    "# something not working here (calculation of distance from waist from diffraction angle at FF_intial and FF)\n",
    "\n",
    "theta1 = diffract_angle_FF(892, 0.95)\n",
    "theta2 = diffract_angle_FF(892, 0.65)\n",
    "# theta1 = -10\n",
    "# theta2 = -12\n",
    "\n",
    "alpha = -theta1 + 90\n",
    "beta = 90 - (-theta2)\n",
    "gamma = 180 - alpha - beta\n",
    "dist_from_source = 0.5* length_gc * np.sin(alpha)/np.sin(gamma)\n",
    "print(dist_from_source)  # law of sines"
   ]
  },
  {
   "cell_type": "code",
   "execution_count": null,
   "metadata": {},
   "outputs": [
    {
     "name": "stdout",
     "output_type": "stream",
     "text": [
      "-5.645929739527968\n",
      "FF_0.95 -2.7730906092325167\n",
      "FF_0.95 -8.542751838476871\n",
      "44600\n"
     ]
    }
   ],
   "source": [
    "print(diffract_angle_FF(892, 0.65))\n",
    "print('FF_0.95', diffract_angle_FF(892, 0.95))\n",
    "print('FF_0.95', diffract_angle_FF(892, 0.349))\n",
    "print(length_gc)"
   ]
  },
  {
   "cell_type": "code",
   "execution_count": null,
   "metadata": {},
   "outputs": [],
   "source": []
  }
 ],
 "metadata": {
  "kernelspec": {
   "display_name": "BA_env",
   "language": "python",
   "name": "python3"
  },
  "language_info": {
   "codemirror_mode": {
    "name": "ipython",
    "version": 3
   },
   "file_extension": ".py",
   "mimetype": "text/x-python",
   "name": "python",
   "nbconvert_exporter": "python",
   "pygments_lexer": "ipython3",
   "version": "3.12.1"
  }
 },
 "nbformat": 4,
 "nbformat_minor": 2
}
