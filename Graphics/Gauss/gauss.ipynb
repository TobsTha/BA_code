{
 "cells": [
  {
   "cell_type": "code",
   "execution_count": 1,
   "metadata": {},
   "outputs": [
    {
     "data": {
      "image/png": "[encoded data removed]",
      "text/plain": [
       "<Figure size 600x400 with 1 Axes>"
      ]
     },
     "metadata": {},
     "output_type": "display_data"
    }
   ],
   "source": [
    "import numpy as np\n",
    "import matplotlib.pyplot as plt\n",
    "\n",
    "# Parameters for the Gaussian function\n",
    "mean = 0  # Mean µ\n",
    "std_deviation = 1  # Standard deviation σ\n",
    "\n",
    "# Generating x values\n",
    "x = np.linspace(-5, 5, 1000)\n",
    "\n",
    "# Calculating the y values based on the Gaussian formula\n",
    "y = (1 / (std_deviation * np.sqrt(2 * np.pi))) * np.exp(-0.5 * ((x - mean) / std_deviation) ** 2)\n",
    "\n",
    "# Plotting\n",
    "plt.figure(figsize=(6,4))\n",
    "plt.plot(x, y, '-', linewidth = 2.4, color = 'white')\n",
    "\n",
    "# Removing labels and axes\n",
    "plt.axis('off')\n",
    "\n",
    "# Export the plot to an SVG file\n",
    "plt.savefig('gauss_curve.svg', format='svg', bbox_inches='tight')"
   ]
  },
  {
   "cell_type": "code",
   "execution_count": 18,
   "metadata": {},
   "outputs": [
    {
     "data": {
      "image/png": "[encoded data removed]",
      "text/plain": [
       "<Figure size 300x200 with 1 Axes>"
      ]
     },
     "metadata": {},
     "output_type": "display_data"
    }
   ],
   "source": [
    "\n",
    "# Parameters for the Gaussian function\n",
    "mean = 0  # Mean µ\n",
    "std_deviation = 1.54  # Standard deviation σ\n",
    "\n",
    "# Generating x values\n",
    "x = np.linspace(-5, 5, 1000)\n",
    "\n",
    "# Calculating the y values based on the Gaussian formula\n",
    "y = (1 / (std_deviation * np.sqrt(2 * np.pi))) * np.exp(-0.5 * ((x - mean) / std_deviation) ** 2)\n",
    "\n",
    "# Plotting\n",
    "plt.figure(figsize=(3,2))\n",
    "plt.plot(x, y, '-', linewidth=3.9, color = 'white')\n",
    "\n",
    "# Removing labels and axes\n",
    "plt.axis('off')\n",
    "\n",
    "# Ensure the background is transparent\n",
    "plt.gca().set_facecolor(\"none\")\n",
    "plt.gca().set_axis_off()\n",
    "plt.subplots_adjust(top=1,bottom=0,right=1,left=0,\n",
    "                    hspace=0,wspace=0)\n",
    "plt.margins(0,0)\n",
    "plt.gca().xaxis.set_major_locator(plt.NullLocator())\n",
    "plt.gca().yaxis.set_major_locator(plt.NullLocator())\n",
    "\n",
    "# Export the plot to a PNG file with a transparent background\n",
    "plt.savefig('gauss_curve_transparent_white.png', format='png', transparent=True, dpi=300, pad_inches=0, bbox_inches='tight')"
   ]
  }
 ],
 "metadata": {
  "kernelspec": {
   "display_name": "BA_env",
   "language": "python",
   "name": "python3"
  },
  "language_info": {
   "codemirror_mode": {
    "name": "ipython",
    "version": 3
   },
   "file_extension": ".py",
   "mimetype": "text/x-python",
   "name": "python",
   "nbconvert_exporter": "python",
   "pygments_lexer": "ipython3",
   "version": "3.12.1"
  }
 },
 "nbformat": 4,
 "nbformat_minor": 2
}
