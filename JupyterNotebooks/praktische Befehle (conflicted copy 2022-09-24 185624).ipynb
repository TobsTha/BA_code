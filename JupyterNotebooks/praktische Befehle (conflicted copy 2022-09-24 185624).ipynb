{
 "cells": [
  {
   "cell_type": "markdown",
   "id": "7d2aa803",
   "metadata": {},
   "source": [
    "### General:\n",
    "- wie autovervollständigung: nach anfangen 'Tab' drücken.\n",
    "- Befehl kennen lernen: '?' dahinter und kompilieren"
   ]
  },
  {
   "cell_type": "code",
   "execution_count": 1,
   "id": "dd9ab6fe-9dd5-4149-b228-760515a1e2ed",
   "metadata": {},
   "outputs": [
    {
     "ename": "NameError",
     "evalue": "name 'fit_func' is not defined",
     "output_type": "error",
     "traceback": [
      "\u001b[1;31m---------------------------------------------------------------------------\u001b[0m",
      "\u001b[1;31mNameError\u001b[0m                                 Traceback (most recent call last)",
      "\u001b[1;32m<ipython-input-1-10c7f458f186>\u001b[0m in \u001b[0;36m<module>\u001b[1;34m\u001b[0m\n\u001b[0;32m     22\u001b[0m \u001b[1;33m\u001b[0m\u001b[0m\n\u001b[0;32m     23\u001b[0m \u001b[1;32mfrom\u001b[0m \u001b[0mscipy\u001b[0m\u001b[1;33m.\u001b[0m\u001b[0moptimize\u001b[0m \u001b[1;32mimport\u001b[0m \u001b[0mcurve_fit\u001b[0m\u001b[1;33m\u001b[0m\u001b[1;33m\u001b[0m\u001b[0m\n\u001b[1;32m---> 24\u001b[1;33m popt, pcov=curve_fit(fit_func,t,N, p0=[500,0.02,50,0.001],\n\u001b[0m\u001b[0;32m     25\u001b[0m sigma=Fehler_N, maxfev=5000)\n\u001b[0;32m     26\u001b[0m \u001b[0mx\u001b[0m\u001b[1;33m=\u001b[0m\u001b[0mnp\u001b[0m\u001b[1;33m.\u001b[0m\u001b[0mlinspace\u001b[0m\u001b[1;33m(\u001b[0m\u001b[1;36m40\u001b[0m\u001b[1;33m,\u001b[0m\u001b[1;36m110\u001b[0m\u001b[1;33m,\u001b[0m \u001b[1;36m100\u001b[0m\u001b[1;33m)\u001b[0m\u001b[1;33m\u001b[0m\u001b[1;33m\u001b[0m\u001b[0m\n",
      "\u001b[1;31mNameError\u001b[0m: name 'fit_func' is not defined"
     ]
    },
    {
     "data": {
      "text/plain": [
       "<Figure size 1152x576 with 0 Axes>"
      ]
     },
     "metadata": {},
     "output_type": "display_data"
    }
   ],
   "source": [
    "%matplotlib inline     \n",
    "# möglich sind \"inline\", \"notebook\" oder \"qt5\"\n",
    "import matplotlib.pyplot as plt\n",
    "import numpy as np\n",
    "\n",
    "def gaussian(x, A, mu, sig): #A: Flaeche der Gaussfunktion\n",
    "    return A/(sqrt(2*pi)*sig)*exp(-(x-mu)**2/2/sig**2)\n",
    "\n",
    "def poisson(x, A_p, mu_p):\n",
    "    return A_p*exp(-mu_p)*mu_p**x/gamma(x+1)\n",
    "\n",
    "def linear(x, a, b):\n",
    "    return a * x + b\n",
    "\n",
    "\n",
    "\n",
    "def comma_to_float(valstr):\n",
    "    return float(valstr.decode('utf-8').replace(',', '.'))\n",
    "\n",
    "\n",
    "plt.figure(figsize=(16, 8))  # Anzeigegrö\"se der Graphik\n",
    "\n",
    "from scipy.optimize import curve_fit\n",
    "popt, pcov=curve_fit(fit_func,t,N, p0=[500,0.02,50,0.001],\n",
    "sigma=Fehler_N, maxfev=5000)\n",
    "x=np.linspace(40,110, 100)\n",
    "plt.plot(x, gaussian(x,*popt), label='Gauss')"
   ]
  },
  {
   "cell_type": "markdown",
   "id": "b74ced1a",
   "metadata": {},
   "source": [
    "np.where : split an array in respect of a condition"
   ]
  }
 ],
 "metadata": {
  "kernelspec": {
   "display_name": "Python 3",
   "language": "python",
   "name": "python3"
  },
  "language_info": {
   "codemirror_mode": {
    "name": "ipython",
    "version": 3
   },
   "file_extension": ".py",
   "mimetype": "text/x-python",
   "name": "python",
   "nbconvert_exporter": "python",
   "pygments_lexer": "ipython3",
   "version": "3.8.8"
  }
 },
 "nbformat": 4,
 "nbformat_minor": 5
}
